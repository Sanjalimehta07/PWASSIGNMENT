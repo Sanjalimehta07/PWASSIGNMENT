{
  "cells": [
    {
      "cell_type": "markdown",
      "id": "54e41659-84dd-4541-81d7-f1e72d27ab2e",
      "metadata": {
        "id": "54e41659-84dd-4541-81d7-f1e72d27ab2e"
      },
      "source": [
        "#functions>>\n"
      ]
    },
    {
      "cell_type": "markdown",
      "source": [],
      "metadata": {
        "id": "8nhbagc-9ViV"
      },
      "id": "8nhbagc-9ViV"
    },
    {
      "cell_type": "code",
      "execution_count": null,
      "id": "f3f74998-0232-462f-afec-65e38d852f7b",
      "metadata": {
        "id": "f3f74998-0232-462f-afec-65e38d852f7b",
        "outputId": "bb9f7118-98a8-48eb-e3df-4999e42ad52a"
      },
      "outputs": [
        {
          "name": "stdout",
          "output_type": "stream",
          "text": [
            "hello world\n"
          ]
        }
      ],
      "source": [
        "print(\"hello world\")\n"
      ]
    },
    {
      "cell_type": "code",
      "execution_count": null,
      "id": "642d08e2-bfee-4670-a75a-04cd1ff3691b",
      "metadata": {
        "colab": {
          "base_uri": "https://localhost:8080/"
        },
        "id": "642d08e2-bfee-4670-a75a-04cd1ff3691b",
        "outputId": "a8b9fee4-ee7a-4b3f-8b2a-23f85e4ba9af"
      },
      "outputs": [
        {
          "output_type": "execute_result",
          "data": {
            "text/plain": [
              "7"
            ]
          },
          "metadata": {},
          "execution_count": 1
        }
      ],
      "source": [
        "len(\"sanjali\")"
      ]
    },
    {
      "cell_type": "markdown",
      "source": [],
      "metadata": {
        "id": "pWNt0gPP81Mw"
      },
      "id": "pWNt0gPP81Mw"
    },
    {
      "cell_type": "code",
      "source": [],
      "metadata": {
        "id": "Ktm9Qh4o81qC"
      },
      "id": "Ktm9Qh4o81qC",
      "execution_count": null,
      "outputs": []
    },
    {
      "cell_type": "code",
      "execution_count": null,
      "id": "6eb16c9c-c838-4c76-bb27-b29ba33c368d",
      "metadata": {
        "id": "6eb16c9c-c838-4c76-bb27-b29ba33c368d",
        "outputId": "08f9c0e8-6781-4f31-92e7-5b1375ffac77"
      },
      "outputs": [
        {
          "data": {
            "text/plain": [
              "int"
            ]
          },
          "execution_count": 3,
          "metadata": {},
          "output_type": "execute_result"
        }
      ],
      "source": [
        "type(5)"
      ]
    },
    {
      "cell_type": "code",
      "execution_count": null,
      "id": "bf2a5470-2c19-4142-8a20-7c34d85abc42",
      "metadata": {
        "id": "bf2a5470-2c19-4142-8a20-7c34d85abc42",
        "outputId": "c04224fb-b6c4-4ebd-cc80-a879786613a4"
      },
      "outputs": [
        {
          "data": {
            "text/plain": [
              "float"
            ]
          },
          "execution_count": 4,
          "metadata": {},
          "output_type": "execute_result"
        }
      ],
      "source": [
        "type(6.7)"
      ]
    },
    {
      "cell_type": "code",
      "execution_count": null,
      "id": "2453a3f9-ee11-4385-8351-cf33e7bb3ff4",
      "metadata": {
        "id": "2453a3f9-ee11-4385-8351-cf33e7bb3ff4"
      },
      "outputs": [],
      "source": [
        "#type print len etc are predefined functions.\n",
        "\n"
      ]
    },
    {
      "cell_type": "code",
      "execution_count": null,
      "id": "8a2abced-d536-43ff-9ab0-89e921461111",
      "metadata": {
        "id": "8a2abced-d536-43ff-9ab0-89e921461111"
      },
      "outputs": [],
      "source": [
        "#functions>>inbuilt python functions\n",
        "#ceiling function>>root>>gives you near highest value\n",
        "#floor value>>gives nearest lowest value\n",
        "#both values will be whole number.\n"
      ]
    },
    {
      "cell_type": "code",
      "execution_count": null,
      "id": "6ba3a8af-8489-42e6-9019-2a5091153124",
      "metadata": {
        "id": "6ba3a8af-8489-42e6-9019-2a5091153124"
      },
      "outputs": [],
      "source": [
        "import math as m #math(library) is collection of function\n"
      ]
    },
    {
      "cell_type": "code",
      "execution_count": null,
      "id": "0dac3ca9-c555-41f7-9e4f-41a16e93e7ab",
      "metadata": {
        "id": "0dac3ca9-c555-41f7-9e4f-41a16e93e7ab",
        "outputId": "661fef34-3cbb-4068-ab99-95d13d62b1bf"
      },
      "outputs": [
        {
          "data": {
            "text/plain": [
              "7"
            ]
          },
          "execution_count": 10,
          "metadata": {},
          "output_type": "execute_result"
        }
      ],
      "source": [
        "m.ceil(6.5)"
      ]
    },
    {
      "cell_type": "code",
      "execution_count": null,
      "id": "eb8cfe3d-141c-4b65-9fc7-eab91c988eb6",
      "metadata": {
        "id": "eb8cfe3d-141c-4b65-9fc7-eab91c988eb6",
        "outputId": "63a1ee67-a6b0-48f5-def8-25189767591d"
      },
      "outputs": [
        {
          "data": {
            "text/plain": [
              "6"
            ]
          },
          "execution_count": 11,
          "metadata": {},
          "output_type": "execute_result"
        }
      ],
      "source": [
        "m.floor(6.5)"
      ]
    },
    {
      "cell_type": "code",
      "execution_count": null,
      "id": "e853deaf-2fe1-404e-a29d-8d6c140afbdb",
      "metadata": {
        "id": "e853deaf-2fe1-404e-a29d-8d6c140afbdb",
        "outputId": "f2426fb1-3aab-4d2f-d6f7-5d2020d0df11"
      },
      "outputs": [
        {
          "data": {
            "text/plain": [
              "2"
            ]
          },
          "execution_count": 15,
          "metadata": {},
          "output_type": "execute_result"
        }
      ],
      "source": [
        "m.floor(2)"
      ]
    },
    {
      "cell_type": "code",
      "execution_count": null,
      "id": "08d94f62-7db0-4772-b53c-177a0e427d19",
      "metadata": {
        "id": "08d94f62-7db0-4772-b53c-177a0e427d19"
      },
      "outputs": [],
      "source": [
        "#user defined function>>"
      ]
    },
    {
      "cell_type": "code",
      "execution_count": null,
      "id": "67c85ae4-6467-4af9-8d53-69d3e2b43da3",
      "metadata": {
        "id": "67c85ae4-6467-4af9-8d53-69d3e2b43da3"
      },
      "outputs": [],
      "source": [
        "#syntax of function\n",
        "#def func():\n",
        "    #do something>>body of a function"
      ]
    },
    {
      "cell_type": "code",
      "execution_count": null,
      "id": "e1877880-fc1b-44b5-8c42-8f1bdac71599",
      "metadata": {
        "id": "e1877880-fc1b-44b5-8c42-8f1bdac71599"
      },
      "outputs": [],
      "source": [
        "#function is a block of code with performs some specific computation/task.\n",
        "#why fuctions>>these functions or code are resuable and it saves your time.\n",
        "#functions are neat, clean and organised.\n",
        "\n",
        "#indentation>>4 space\n"
      ]
    },
    {
      "cell_type": "code",
      "execution_count": null,
      "id": "e7602000-1d30-445f-a616-6a1653e6ab69",
      "metadata": {
        "id": "e7602000-1d30-445f-a616-6a1653e6ab69"
      },
      "outputs": [],
      "source": [
        "#syntax of function\n",
        "#def func():\n",
        "    #do something>>body of a function\n"
      ]
    },
    {
      "cell_type": "code",
      "execution_count": null,
      "id": "0bce9735-7151-4f12-abcb-d79d2e31bd0e",
      "metadata": {
        "id": "0bce9735-7151-4f12-abcb-d79d2e31bd0e",
        "outputId": "33ecabea-0dfe-4d2b-8641-408d95fbc10f"
      },
      "outputs": [
        {
          "name": "stdout",
          "output_type": "stream",
          "text": [
            "welcome to the office Rahul\n",
            "welcome to the office anuj\n",
            "welcome to the office Anshika\n"
          ]
        }
      ],
      "source": [
        "print(\"welcome to the office Rahul\")\n",
        "print(\"welcome to the office anuj\")\n",
        "print(\"welcome to the office Anshika\")"
      ]
    },
    {
      "cell_type": "code",
      "execution_count": null,
      "id": "2d92339f-6dbb-471a-b9c2-9210efcea101",
      "metadata": {
        "id": "2d92339f-6dbb-471a-b9c2-9210efcea101"
      },
      "outputs": [],
      "source": []
    },
    {
      "cell_type": "code",
      "execution_count": null,
      "id": "06dd144e-8875-4eb2-8cb6-74b91318bd88",
      "metadata": {
        "id": "06dd144e-8875-4eb2-8cb6-74b91318bd88",
        "outputId": "ed411221-b1ab-4b77-ce8e-700cc8cc8f13"
      },
      "outputs": [
        {
          "name": "stdout",
          "output_type": "stream",
          "text": [
            "hello world\n"
          ]
        }
      ],
      "source": [
        "print(\"hello world\")  #in print , you call function by name, print() and provide a value inside paranthesis"
      ]
    },
    {
      "cell_type": "code",
      "execution_count": null,
      "id": "5663c984-845f-4e34-bc9a-431701b1daca",
      "metadata": {
        "id": "5663c984-845f-4e34-bc9a-431701b1daca"
      },
      "outputs": [],
      "source": [
        "def greetings():\n",
        "    print(\"Welcome to the office\")"
      ]
    },
    {
      "cell_type": "code",
      "execution_count": null,
      "id": "d2af830b-58f8-4f08-bcd7-99dcccc72f01",
      "metadata": {
        "id": "d2af830b-58f8-4f08-bcd7-99dcccc72f01",
        "outputId": "1cebdc6e-5d6e-45e9-ba57-7693355cc1bc"
      },
      "outputs": [
        {
          "name": "stdout",
          "output_type": "stream",
          "text": [
            "Weilcome to the office\n"
          ]
        }
      ],
      "source": [
        "greetings()"
      ]
    },
    {
      "cell_type": "code",
      "execution_count": null,
      "id": "e1254212-d3fb-4a9e-aa16-1c179983101c",
      "metadata": {
        "id": "e1254212-d3fb-4a9e-aa16-1c179983101c",
        "outputId": "b6d562ac-f0aa-4c6d-f9e0-4e8694e9c2b3"
      },
      "outputs": [
        {
          "name": "stdout",
          "output_type": "stream",
          "text": [
            "hello world\n"
          ]
        }
      ],
      "source": [
        "print(\"hello world\")  #in print , you call function by name, print() and provide a value inside paranthesis"
      ]
    },
    {
      "cell_type": "code",
      "execution_count": null,
      "id": "4f6b3925-5df0-46ef-8465-b9e8e48af79a",
      "metadata": {
        "id": "4f6b3925-5df0-46ef-8465-b9e8e48af79a"
      },
      "outputs": [],
      "source": [
        "def greetings(name):  #passing a variable inside a function.\n",
        "    print(\"Welcome to the office\",name)\n",
        "#name is positional argument.\n"
      ]
    },
    {
      "cell_type": "code",
      "execution_count": null,
      "id": "0b6d3025-0526-4a46-9c6b-655763abb138",
      "metadata": {
        "id": "0b6d3025-0526-4a46-9c6b-655763abb138",
        "outputId": "8ec45ae8-d0b9-4e78-e39d-b9e45d7c2bb4"
      },
      "outputs": [
        {
          "name": "stdout",
          "output_type": "stream",
          "text": [
            "Welcome to the office ajay\n"
          ]
        }
      ],
      "source": [
        "greetings(\"ajay\")\n",
        "\n"
      ]
    },
    {
      "cell_type": "code",
      "execution_count": null,
      "id": "eee3957d-08ca-4ef0-bde1-231bf6a87f59",
      "metadata": {
        "id": "eee3957d-08ca-4ef0-bde1-231bf6a87f59"
      },
      "outputs": [],
      "source": [
        "def greetings(name):\n",
        "    print(\"Welcome to the office\", name)"
      ]
    },
    {
      "cell_type": "code",
      "execution_count": null,
      "id": "2337f032-905c-4a06-8416-77cf1577e611",
      "metadata": {
        "id": "2337f032-905c-4a06-8416-77cf1577e611",
        "outputId": "cde515ad-602a-44b5-cff6-5856c7c52411"
      },
      "outputs": [
        {
          "name": "stdout",
          "output_type": "stream",
          "text": [
            "Welcome to the office ajay\n"
          ]
        }
      ],
      "source": [
        "greetings(\"ajay\")"
      ]
    },
    {
      "cell_type": "code",
      "execution_count": null,
      "id": "a21ee806-9e77-4196-8bd8-7352846f6053",
      "metadata": {
        "id": "a21ee806-9e77-4196-8bd8-7352846f6053",
        "outputId": "b20b75bb-2893-4e04-9ed0-41a2e39eeeb1"
      },
      "outputs": [
        {
          "name": "stdout",
          "output_type": "stream",
          "text": [
            "Welcome to the office Shreya\n"
          ]
        }
      ],
      "source": [
        "greetings(\"Shreya\")"
      ]
    },
    {
      "cell_type": "code",
      "execution_count": null,
      "id": "f3660f27-3e14-4cb2-af55-da13c120c25d",
      "metadata": {
        "id": "f3660f27-3e14-4cb2-af55-da13c120c25d",
        "outputId": "8f98e94f-81ac-493f-c383-994cd2757a92"
      },
      "outputs": [
        {
          "name": "stdout",
          "output_type": "stream",
          "text": [
            "Welcome to the office Hari\n"
          ]
        }
      ],
      "source": [
        "greetings(\"Hari\")"
      ]
    },
    {
      "cell_type": "code",
      "execution_count": null,
      "id": "45e25e8d-349b-4f40-a27d-338ab4bda48b",
      "metadata": {
        "id": "45e25e8d-349b-4f40-a27d-338ab4bda48b",
        "outputId": "94225f10-b963-45e8-fe8e-2aac618d51ce"
      },
      "outputs": [
        {
          "ename": "TypeError",
          "evalue": "greetings() missing 1 required positional argument: 'name'",
          "output_type": "error",
          "traceback": [
            "\u001b[0;31m---------------------------------------------------------------------------\u001b[0m",
            "\u001b[0;31mTypeError\u001b[0m                                 Traceback (most recent call last)",
            "Cell \u001b[0;32mIn[32], line 1\u001b[0m\n\u001b[0;32m----> 1\u001b[0m \u001b[43mgreetings\u001b[49m\u001b[43m(\u001b[49m\u001b[43m)\u001b[49m \u001b[38;5;66;03m#it will throw an error\u001b[39;00m\n",
            "\u001b[0;31mTypeError\u001b[0m: greetings() missing 1 required positional argument: 'name'"
          ]
        }
      ],
      "source": [
        "greetings() #it will throw an error"
      ]
    },
    {
      "cell_type": "code",
      "execution_count": null,
      "id": "1a385fc8-b5c0-449a-9303-f38af6555063",
      "metadata": {
        "id": "1a385fc8-b5c0-449a-9303-f38af6555063"
      },
      "outputs": [],
      "source": []
    },
    {
      "cell_type": "code",
      "execution_count": null,
      "id": "46eabde9-0bd2-4099-b5c9-0ad37a6e9ed6",
      "metadata": {
        "id": "46eabde9-0bd2-4099-b5c9-0ad37a6e9ed6"
      },
      "outputs": [],
      "source": []
    },
    {
      "cell_type": "code",
      "execution_count": null,
      "id": "2b39e7a7-9cde-444a-8cac-df2dbfe5eb34",
      "metadata": {
        "id": "2b39e7a7-9cde-444a-8cac-df2dbfe5eb34"
      },
      "outputs": [],
      "source": []
    },
    {
      "cell_type": "code",
      "execution_count": null,
      "id": "58847d46-0813-43ff-88fa-c0af452b6d55",
      "metadata": {
        "id": "58847d46-0813-43ff-88fa-c0af452b6d55"
      },
      "outputs": [],
      "source": []
    }
  ],
  "metadata": {
    "kernelspec": {
      "display_name": "Python 3 (ipykernel)",
      "language": "python",
      "name": "python3"
    },
    "language_info": {
      "codemirror_mode": {
        "name": "ipython",
        "version": 3
      },
      "file_extension": ".py",
      "mimetype": "text/x-python",
      "name": "python",
      "nbconvert_exporter": "python",
      "pygments_lexer": "ipython3",
      "version": "3.10.8"
    },
    "colab": {
      "provenance": []
    }
  },
  "nbformat": 4,
  "nbformat_minor": 5
}